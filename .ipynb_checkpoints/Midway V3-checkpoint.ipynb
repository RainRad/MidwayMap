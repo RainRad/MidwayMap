{
 "cells": [
  {
   "cell_type": "code",
   "execution_count": null,
   "metadata": {
    "id": "yEMI_awdLh2M"
   },
   "outputs": [],
   "source": [
    "import folium\n",
    "import requests\n",
    "import googlemaps\n",
    "import MappingFunctions as mfs\n",
    "\n",
    "#If you're using your own API Key please deactivate the import from DoNotPublish, and utilize your own key\n",
    "from DoNotPublish import api_key\n",
    "# api_key = Your Own Key"
   ]
  },
  {
   "cell_type": "code",
   "execution_count": null,
   "metadata": {},
   "outputs": [],
   "source": [
    "person_a_address = input(\"Input the first starting point's address here:\")\n",
    "person_b_address = input(\"Input the second starting point's address here:\")"
   ]
  },
  {
   "cell_type": "code",
   "execution_count": null,
   "metadata": {
    "id": "82ST_kRtMarH"
   },
   "outputs": [],
   "source": [
    "leg_lengths_miles, polyline_str = mfs.get_distances_and_polyline(person_a_address, person_b_address, api_key)"
   ]
  },
  {
   "cell_type": "code",
   "execution_count": null,
   "metadata": {
    "colab": {
     "base_uri": "https://localhost:8080/"
    },
    "id": "5vUWIxW-SLb_",
    "outputId": "021ce87d-0ac7-4aa3-ee2e-6ef6161a1c65"
   },
   "outputs": [],
   "source": [
    "# Call the function to get the results\n",
    "total_distance, half_distance, leg_location =mfs.process_distance_list(leg_lengths_miles)\n",
    "print(f\"The total distance between both points is: {total_distance}\")"
   ]
  },
  {
   "cell_type": "code",
   "execution_count": null,
   "metadata": {
    "colab": {
     "base_uri": "https://localhost:8080/",
     "height": 975
    },
    "id": "T8a9qqa8MY9t",
    "outputId": "c7968583-58e8-4c8b-d1f8-d4c3820b3436"
   },
   "outputs": [],
   "source": [
    "map, hotel_name, hotel_address, restaurant_name, restaurant_address = mfs.plot_polyline_on_map(polyline_str, api_key)\n",
    "map"
   ]
  },
  {
   "cell_type": "code",
   "execution_count": null,
   "metadata": {
    "colab": {
     "base_uri": "https://localhost:8080/"
    },
    "id": "E1Nq8nfoNc9e",
    "outputId": "60592dbc-ec48-4f6a-ae72-22f15e44c8d0"
   },
   "outputs": [],
   "source": [
    "print(f\" Party A is starting at {person_a_address}.\")\n",
    "print(f\" Party B is starting at {person_b_address}.\")\n",
    "\n",
    "print(f\" The midpoint hotel would be {hotel_name}, located at {hotel_address}\")\n",
    "print(f\" The midpoint restaurant would be {restaurant_name}, located at {restaurant_address}\")"
   ]
  },
  {
   "cell_type": "code",
   "execution_count": null,
   "metadata": {},
   "outputs": [],
   "source": []
  },
  {
   "cell_type": "code",
   "execution_count": null,
   "metadata": {},
   "outputs": [],
   "source": []
  }
 ],
 "metadata": {
  "colab": {
   "provenance": []
  },
  "kernelspec": {
   "display_name": "PythonData",
   "language": "python",
   "name": "pythondata"
  },
  "language_info": {
   "codemirror_mode": {
    "name": "ipython",
    "version": 3
   },
   "file_extension": ".py",
   "mimetype": "text/x-python",
   "name": "python",
   "nbconvert_exporter": "python",
   "pygments_lexer": "ipython3",
   "version": "3.7.7"
  }
 },
 "nbformat": 4,
 "nbformat_minor": 1
}
