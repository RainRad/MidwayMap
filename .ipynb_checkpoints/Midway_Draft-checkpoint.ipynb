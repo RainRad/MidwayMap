{
 "cells": [
  {
   "cell_type": "code",
   "execution_count": 1,
   "metadata": {
    "colab": {
     "base_uri": "https://localhost:8080/"
    },
    "id": "OKzOT8iiPb6V",
    "outputId": "3456de11-1719-4a44-f6ce-aee81238c82d"
   },
   "outputs": [
    {
     "name": "stdout",
     "output_type": "stream",
     "text": [
      "Requirement already satisfied: googlemaps in /usr/local/lib/python3.10/dist-packages (4.10.0)\n",
      "Requirement already satisfied: requests<3.0,>=2.20.0 in /usr/local/lib/python3.10/dist-packages (from googlemaps) (2.27.1)\n",
      "Requirement already satisfied: urllib3<1.27,>=1.21.1 in /usr/local/lib/python3.10/dist-packages (from requests<3.0,>=2.20.0->googlemaps) (1.26.16)\n",
      "Requirement already satisfied: certifi>=2017.4.17 in /usr/local/lib/python3.10/dist-packages (from requests<3.0,>=2.20.0->googlemaps) (2023.7.22)\n",
      "Requirement already satisfied: charset-normalizer~=2.0.0 in /usr/local/lib/python3.10/dist-packages (from requests<3.0,>=2.20.0->googlemaps) (2.0.12)\n",
      "Requirement already satisfied: idna<4,>=2.5 in /usr/local/lib/python3.10/dist-packages (from requests<3.0,>=2.20.0->googlemaps) (3.4)\n"
     ]
    }
   ],
   "source": [
    "pip install -U googlemaps"
   ]
  },
  {
   "cell_type": "code",
   "execution_count": 2,
   "metadata": {
    "id": "yEMI_awdLh2M"
   },
   "outputs": [],
   "source": [
    "import requests\n",
    "import folium\n",
    "import googlemaps\n",
    "from Keys import api_key"
   ]
  },
  {
   "cell_type": "code",
   "execution_count": 3,
   "metadata": {
    "id": "qeIjbxc_MCuk"
   },
   "outputs": [],
   "source": [
    "person_A_address = '1 East Main Street, Madison WI'\n",
    "person_B_address = '1 Penn Square, Philadelphia, Pennsylvania, U.S.'\n",
    "api_key = api_key"
   ]
  },
  {
   "cell_type": "code",
   "execution_count": 4,
   "metadata": {
    "id": "igIbx3IMMOzt"
   },
   "outputs": [],
   "source": [
    "'''\n",
    "This code calls the API, and returns three items:\n",
    "1. directions_text = The text explanations of the route (Potentially useless)\n",
    "2. leg_lengths_miles = A list containing the distances of each leg of travel\n",
    "3. polyline = A polyline showing the travel route\n",
    "'''\n",
    "\n",
    "\n",
    "def get_directions_and_distances_two(origin, destination):\n",
    "    base_url = \"https://maps.googleapis.com/maps/api/directions/json\"\n",
    "    params = {\n",
    "        \"origin\": origin,\n",
    "        \"destination\": destination,\n",
    "        \"key\": api_key,\n",
    "        \"units\": \"imperial\"\n",
    "    }\n",
    "\n",
    "    response = requests.get(base_url, params=params)\n",
    "    data = response.json()\n",
    "\n",
    "    if data[\"status\"] == \"OK\":\n",
    "        # Extracting the directions in text\n",
    "        directions = []\n",
    "        for step in data[\"routes\"][0][\"legs\"][0][\"steps\"]:\n",
    "            directions.append(step[\"html_instructions\"])\n",
    "        directions_text = \"\\n\".join(directions)\n",
    "\n",
    "        # Extracting the length of each leg in miles\n",
    "        leg_lengths_miles = [step[\"distance\"][\"text\"] for step in data[\"routes\"][0][\"legs\"][0][\"steps\"]]\n",
    "\n",
    "        # Extracting the polyline\n",
    "        polyline = data[\"routes\"][0][\"overview_polyline\"][\"points\"]\n",
    "\n",
    "        return directions_text, leg_lengths_miles, polyline\n",
    "    else:\n",
    "        return None, None, None"
   ]
  },
  {
   "cell_type": "code",
   "execution_count": 5,
   "metadata": {
    "id": "IxwsGeaKSBXm"
   },
   "outputs": [],
   "source": [
    "'''\n",
    "These functions are used to locate the half-way point, the full travel distance, and the leg on which the half-way point occurs\n",
    "'''\n",
    "\n",
    "def convert_to_miles(distance_str):\n",
    "    if 'mi' in distance_str:\n",
    "        return float(distance_str.replace(' mi', ''))\n",
    "    elif 'ft' in distance_str:\n",
    "        return float(distance_str.replace(' ft', '')) / 5280.0\n",
    "    else:\n",
    "        return 0.0\n",
    "\n",
    "def calculate_total_distance(distances):\n",
    "    total_miles = sum(convert_to_miles(d) for d in distances)\n",
    "    return total_miles\n",
    "\n",
    "def calculate_halfway_point(distances):\n",
    "    total_miles = calculate_total_distance(distances)\n",
    "    halfway_miles = total_miles / 2.0\n",
    "\n",
    "    accumulated_distance = 0.0\n",
    "    halfway_leg = None\n",
    "    for i, d in enumerate(distances):\n",
    "        distance_in_miles = convert_to_miles(d)\n",
    "        accumulated_distance += distance_in_miles\n",
    "        if accumulated_distance >= halfway_miles:\n",
    "            halfway_leg = i\n",
    "            break\n",
    "\n",
    "    return halfway_miles, halfway_leg\n",
    "\n",
    "def process_distance_list(distance_list):\n",
    "    total_distance = calculate_total_distance(distance_list)\n",
    "    halfway_miles, halfway_leg = calculate_halfway_point(distance_list)\n",
    "    return total_distance, halfway_miles, halfway_leg"
   ]
  },
  {
   "cell_type": "code",
   "execution_count": 6,
   "metadata": {
    "id": "82ST_kRtMarH"
   },
   "outputs": [],
   "source": [
    "directions_text, leg_lengths_miles, polyline_str = get_directions_and_distances_two(person_A_address, person_B_address)"
   ]
  },
  {
   "cell_type": "code",
   "execution_count": 7,
   "metadata": {
    "colab": {
     "base_uri": "https://localhost:8080/"
    },
    "id": "5vUWIxW-SLb_",
    "outputId": "021ce87d-0ac7-4aa3-ee2e-6ef6161a1c65"
   },
   "outputs": [
    {
     "name": "stdout",
     "output_type": "stream",
     "text": [
      "910.2407196969697\n",
      "455.12035984848484\n",
      "22\n",
      "278 mi\n"
     ]
    }
   ],
   "source": [
    "# Call the function to get the results\n",
    "total_distance, half_distance, leg_location = process_distance_list(leg_lengths_miles)\n",
    "print(total_distance)\n",
    "print(half_distance)\n",
    "print(leg_location)\n",
    "print(leg_lengths_miles[leg_location])"
   ]
  },
  {
   "cell_type": "code",
   "execution_count": 8,
   "metadata": {
    "id": "vp_eO_85SVHV"
   },
   "outputs": [],
   "source": [
    "# The directions text might not be particularly useful given that it's in the format of one long string, and not a list as the leg distances are.\n",
    "# It might be pragmatic to find the half-way destination and then re-query and serve two different routes to that final shared destination.\n"
   ]
  },
  {
   "cell_type": "code",
   "execution_count": 9,
   "metadata": {
    "id": "QnFWiG45TtTp"
   },
   "outputs": [],
   "source": [
    "def decode_polyline(polyline_str):\n",
    "    index, lat, lng = 0, 0, 0\n",
    "    coordinates = []\n",
    "    changes = {'latitude': 0, 'longitude': 0}\n",
    "\n",
    "    # Coordinates have variable length when encoded, so just keep\n",
    "    # track of whether we've hit the end of the string. In each\n",
    "    # while loop iteration, a single coordinate is decoded.\n",
    "    while index < len(polyline_str):\n",
    "        # Gather lat/lon changes, store them in a dictionary to apply them later\n",
    "        for unit in ['latitude', 'longitude']:\n",
    "            shift, result = 0, 0\n",
    "\n",
    "            while True:\n",
    "                byte = ord(polyline_str[index]) - 63\n",
    "                index += 1\n",
    "                result |= (byte & 0x1f) << shift\n",
    "                shift += 5\n",
    "                if not byte >= 0x20:\n",
    "                    break\n",
    "\n",
    "            if result & 1:\n",
    "                changes[unit] = ~(result >> 1)\n",
    "            else:\n",
    "                changes[unit] = (result >> 1)\n",
    "\n",
    "        lat += changes['latitude']\n",
    "        lng += changes['longitude']\n",
    "\n",
    "        coordinates.append((lat / 100000.0, lng / 100000.0))\n",
    "\n",
    "    return coordinates"
   ]
  },
  {
   "cell_type": "code",
   "execution_count": 10,
   "metadata": {
    "id": "F5bK3quCYjmS"
   },
   "outputs": [],
   "source": [
    "def find_middle_point(coordinates):\n",
    "    # Calculate the middle point\n",
    "    total_points = len(coordinates)\n",
    "    middle_index = total_points // 2\n",
    "\n",
    "    # Return the middle point's coordinates\n",
    "    middle_lat, middle_lon = coordinates[middle_index]\n",
    "    return middle_lat, middle_lon"
   ]
  },
  {
   "cell_type": "code",
   "execution_count": 13,
   "metadata": {
    "id": "oKv8k2Z6WUN6"
   },
   "outputs": [],
   "source": [
    "def plot_polyline_on_map(polyline_str, api_key):\n",
    "    decoded_coordinates = decode_polyline(polyline_str)\n",
    "\n",
    "    # Calculate the center of the polyline to set the initial map view\n",
    "    center_lat = sum(lat for lat, lon in decoded_coordinates) / len(decoded_coordinates)\n",
    "    center_lon = sum(lon for lat, lon in decoded_coordinates) / len(decoded_coordinates)\n",
    "\n",
    "    # Create a map centered on the polyline using Google Maps API\n",
    "    mymap = folium.Map(location=[center_lat, center_lon], zoom_start=14)\n",
    "\n",
    "    # Add the polyline to the map using Google Maps API\n",
    "    polyline = folium.PolyLine(locations=decoded_coordinates, color='blue')\n",
    "    mymap.add_child(polyline)\n",
    "\n",
    "    # Find and mark the middle point of the polyline\n",
    "    middle_lat, middle_lon = find_middle_point(decoded_coordinates)\n",
    "    folium.Marker(location=[middle_lat, middle_lon], popup=\"Middle Point\", icon=folium.Icon(color='green')).add_to(mymap)\n",
    "\n",
    "    # Perform a nearby search for hotels using Google Maps Places API\n",
    "    hotels_api_url = \"https://maps.googleapis.com/maps/api/place/nearbysearch/json\"\n",
    "    api_key = api_key\n",
    "\n",
    "    hotel_params = {\n",
    "        \"location\": f\"{center_lat},{center_lon}\",\n",
    "        \"rankby\": \"distance\",\n",
    "        \"type\": \"lodging\",\n",
    "        \"key\": api_key\n",
    "    }\n",
    "\n",
    "    hotel_response = requests.get(hotels_api_url, params=hotel_params)\n",
    "    if hotel_response.status_code == 200:\n",
    "        hotels_data = hotel_response.json()\n",
    "        closest_hotel = hotels_data.get(\"results\", [])[0]  # The closest hotel will be the first result since we use \"rankby=distance\"\n",
    "        if closest_hotel:\n",
    "            hotel_name = closest_hotel.get(\"name\")\n",
    "            hotel_address = closest_hotel.get(\"vicinity\")\n",
    "            hotel_lat = closest_hotel.get(\"geometry\", {}).get(\"location\", {}).get(\"lat\")\n",
    "            hotel_lng = closest_hotel.get(\"geometry\", {}).get(\"location\", {}).get(\"lng\")\n",
    "            folium.Marker(location=[hotel_lat, hotel_lng], popup=f\"Hotel: {hotel_name}\\nAddress: {hotel_address}\", icon=folium.Icon(color='purple')).add_to(mymap)\n",
    "\n",
    "    # Perform a nearby search for restaurants using Google Maps Places API\n",
    "    restaurants_params = {\n",
    "        \"location\": f\"{center_lat},{center_lon}\",\n",
    "        \"rankby\": \"distance\",\n",
    "        \"type\": \"restaurant\",\n",
    "        \"key\": api_key\n",
    "    }\n",
    "\n",
    "    restaurants_response = requests.get(hotels_api_url, params=restaurants_params)\n",
    "    if restaurants_response.status_code == 200:\n",
    "        restaurants_data = restaurants_response.json()\n",
    "        closest_restaurant = restaurants_data.get(\"results\", [])[0]  # The closest restaurant will be the first result since we use \"rankby=distance\"\n",
    "        if closest_restaurant:\n",
    "            restaurant_name = closest_restaurant.get(\"name\")\n",
    "            restaurant_address = closest_restaurant.get(\"vicinity\")\n",
    "            restaurant_lat = closest_restaurant.get(\"geometry\", {}).get(\"location\", {}).get(\"lat\")\n",
    "            restaurant_lng = closest_restaurant.get(\"geometry\", {}).get(\"location\", {}).get(\"lng\")\n",
    "            folium.Marker(location=[restaurant_lat, restaurant_lng], popup=f\"Restaurant: {restaurant_name}\\nAddress: {restaurant_address}\", icon=folium.Icon(color='blue')).add_to(mymap)\n",
    "\n",
    "    return mymap, hotel_name, hotel_address, restaurant_name, restaurant_address"
   ]
  },
  {
   "cell_type": "code",
   "execution_count": 14,
   "metadata": {
    "colab": {
     "base_uri": "https://localhost:8080/",
     "height": 975
    },
    "id": "T8a9qqa8MY9t",
    "outputId": "c7968583-58e8-4c8b-d1f8-d4c3820b3436"
   },
   "outputs": [
    {
     "data": {
      "text/html": [
       "<div style=\"width:100%;\"><div style=\"position:relative;width:100%;height:0;padding-bottom:60%;\"><span style=\"color:#565656\">Make this Notebook Trusted to load map: File -> Trust Notebook</span><iframe srcdoc=\"&lt;!DOCTYPE html&gt;\n",
       "&lt;html&gt;\n",
       "&lt;head&gt;\n",
       "    \n",
       "    &lt;meta http-equiv=&quot;content-type&quot; content=&quot;text/html; charset=UTF-8&quot; /&gt;\n",
       "    \n",
       "        &lt;script&gt;\n",
       "            L_NO_TOUCH = false;\n",
       "            L_DISABLE_3D = false;\n",
       "        &lt;/script&gt;\n",
       "    \n",
       "    &lt;style&gt;html, body {width: 100%;height: 100%;margin: 0;padding: 0;}&lt;/style&gt;\n",
       "    &lt;style&gt;#map {position:absolute;top:0;bottom:0;right:0;left:0;}&lt;/style&gt;\n",
       "    &lt;script src=&quot;https://cdn.jsdelivr.net/npm/leaflet@1.9.3/dist/leaflet.js&quot;&gt;&lt;/script&gt;\n",
       "    &lt;script src=&quot;https://code.jquery.com/jquery-1.12.4.min.js&quot;&gt;&lt;/script&gt;\n",
       "    &lt;script src=&quot;https://cdn.jsdelivr.net/npm/bootstrap@5.2.2/dist/js/bootstrap.bundle.min.js&quot;&gt;&lt;/script&gt;\n",
       "    &lt;script src=&quot;https://cdnjs.cloudflare.com/ajax/libs/Leaflet.awesome-markers/2.0.2/leaflet.awesome-markers.js&quot;&gt;&lt;/script&gt;\n",
       "    &lt;link rel=&quot;stylesheet&quot; href=&quot;https://cdn.jsdelivr.net/npm/leaflet@1.9.3/dist/leaflet.css&quot;/&gt;\n",
       "    &lt;link rel=&quot;stylesheet&quot; href=&quot;https://cdn.jsdelivr.net/npm/bootstrap@5.2.2/dist/css/bootstrap.min.css&quot;/&gt;\n",
       "    &lt;link rel=&quot;stylesheet&quot; href=&quot;https://netdna.bootstrapcdn.com/bootstrap/3.0.0/css/bootstrap.min.css&quot;/&gt;\n",
       "    &lt;link rel=&quot;stylesheet&quot; href=&quot;https://cdn.jsdelivr.net/npm/@fortawesome/fontawesome-free@6.2.0/css/all.min.css&quot;/&gt;\n",
       "    &lt;link rel=&quot;stylesheet&quot; href=&quot;https://cdnjs.cloudflare.com/ajax/libs/Leaflet.awesome-markers/2.0.2/leaflet.awesome-markers.css&quot;/&gt;\n",
       "    &lt;link rel=&quot;stylesheet&quot; href=&quot;https://cdn.jsdelivr.net/gh/python-visualization/folium/folium/templates/leaflet.awesome.rotate.min.css&quot;/&gt;\n",
       "    \n",
       "            &lt;meta name=&quot;viewport&quot; content=&quot;width=device-width,\n",
       "                initial-scale=1.0, maximum-scale=1.0, user-scalable=no&quot; /&gt;\n",
       "            &lt;style&gt;\n",
       "                #map_b07e444aafc81c49f2f495f5dbca5c3e {\n",
       "                    position: relative;\n",
       "                    width: 100.0%;\n",
       "                    height: 100.0%;\n",
       "                    left: 0.0%;\n",
       "                    top: 0.0%;\n",
       "                }\n",
       "                .leaflet-container { font-size: 1rem; }\n",
       "            &lt;/style&gt;\n",
       "        \n",
       "&lt;/head&gt;\n",
       "&lt;body&gt;\n",
       "    \n",
       "    \n",
       "            &lt;div class=&quot;folium-map&quot; id=&quot;map_b07e444aafc81c49f2f495f5dbca5c3e&quot; &gt;&lt;/div&gt;\n",
       "        \n",
       "&lt;/body&gt;\n",
       "&lt;script&gt;\n",
       "    \n",
       "    \n",
       "            var map_b07e444aafc81c49f2f495f5dbca5c3e = L.map(\n",
       "                &quot;map_b07e444aafc81c49f2f495f5dbca5c3e&quot;,\n",
       "                {\n",
       "                    center: [41.07576124423964, -82.34721281105988],\n",
       "                    crs: L.CRS.EPSG3857,\n",
       "                    zoom: 14,\n",
       "                    zoomControl: true,\n",
       "                    preferCanvas: false,\n",
       "                }\n",
       "            );\n",
       "\n",
       "            \n",
       "\n",
       "        \n",
       "    \n",
       "            var tile_layer_559b8cd75409e1e641f3fc391b218859 = L.tileLayer(\n",
       "                &quot;https://{s}.tile.openstreetmap.org/{z}/{x}/{y}.png&quot;,\n",
       "                {&quot;attribution&quot;: &quot;Data by \\u0026copy; \\u003ca target=\\&quot;_blank\\&quot; href=\\&quot;http://openstreetmap.org\\&quot;\\u003eOpenStreetMap\\u003c/a\\u003e, under \\u003ca target=\\&quot;_blank\\&quot; href=\\&quot;http://www.openstreetmap.org/copyright\\&quot;\\u003eODbL\\u003c/a\\u003e.&quot;, &quot;detectRetina&quot;: false, &quot;maxNativeZoom&quot;: 18, &quot;maxZoom&quot;: 18, &quot;minZoom&quot;: 0, &quot;noWrap&quot;: false, &quot;opacity&quot;: 1, &quot;subdomains&quot;: &quot;abc&quot;, &quot;tms&quot;: false}\n",
       "            ).addTo(map_b07e444aafc81c49f2f495f5dbca5c3e);\n",
       "        \n",
       "    \n",
       "            var poly_line_9cdfc47f0e9b8d2d758172db4bb71ec8 = L.polyline(\n",
       "                [[43.07352, -89.38263], [43.06087, -89.38646], [43.04259, -89.36838], [43.04516, -89.31347], [43.04513, -89.28132], [43.01477, -89.23667], [42.99834, -89.17618], [42.98452, -89.12857], [42.94347, -89.09357], [42.89248, -89.07401], [42.82859, -89.02609], [42.78235, -89.00475], [42.73066, -88.99971], [42.7001, -88.98408], [42.66817, -88.98365], [42.61472, -88.98251], [42.57488, -88.98157], [42.53728, -88.97494], [42.4809, -88.99524], [42.41377, -88.98562], [42.35305, -88.96433], [42.25541, -88.96503], [42.2345, -88.90882], [42.23361, -88.82487], [42.21209, -88.72439], [42.17278, -88.60427], [42.08286, -88.34063], [42.06638, -88.25802], [42.06647, -88.15368], [42.05799, -88.03489], [41.9942, -88.02411], [41.96149, -88.02691], [41.94475, -87.99419], [41.92027, -87.94747], [41.90454, -87.92184], [41.87649, -87.91908], [41.82507, -87.91789], [41.7639, -87.90038], [41.73291, -87.81801], [41.71035, -87.79758], [41.68511, -87.78069], [41.66301, -87.73914], [41.63686, -87.71671], [41.63068, -87.69528], [41.58487, -87.68105], [41.57801, -87.66062], [41.57833, -87.59715], [41.57412, -87.49315], [41.56738, -87.31106], [41.58309, -87.23985], [41.59154, -87.23336], [41.58066, -87.19011], [41.57187, -87.14596], [41.57901, -87.0956], [41.57139, -87.01037], [41.58154, -86.94628], [41.59777, -86.86686], [41.62026, -86.81331], [41.67227, -86.71434], [41.68504, -86.65676], [41.71646, -86.61021], [41.74434, -86.4975], [41.74944, -86.44006], [41.73553, -86.38838], [41.71802, -86.24162], [41.71619, -86.18288], [41.73342, -86.13438], [41.73123, -85.98429], [41.73603, -85.81715], [41.73012, -85.76218], [41.74706, -85.68364], [41.7513, -85.61519], [41.75109, -85.48633], [41.74457, -85.32406], [41.74271, -85.27613], [41.75461, -85.25269], [41.75573, -85.16752], [41.74745, -85.02998], [41.73237, -84.97303], [41.69768, -84.91353], [41.65706, -84.84451], [41.64088, -84.83167], [41.62906, -84.80128], [41.62869, -84.74591], [41.6257, -84.7058], [41.60778, -84.50343], [41.59164, -84.3117], [41.59049, -84.11074], [41.59955, -83.79989], [41.59189, -83.68465], [41.57401, -83.59273], [41.54012, -83.51375], [41.51134, -83.4217], [41.42202, -83.17185], [41.38761, -83.04787], [41.35428, -82.87928], [41.33895, -82.74974], [41.32568, -82.52426], [41.33455, -82.37882], [41.35616, -82.29451], [41.37425, -82.26484], [41.3796, -82.21732], [41.3918, -82.12492], [41.37947, -82.03179], [41.36863, -81.93877], [41.29665, -81.68979], [41.25478, -81.59522], [41.2531, -81.41992], [41.24008, -80.98917], [41.15912, -80.90179], [41.08505, -80.81322], [41.04365, -80.76291], [40.98037, -80.67935], [40.95518, -80.63924], [40.93762, -80.57995], [40.87017, -80.40644], [40.83383, -80.36667], [40.82044, -80.34281], [40.79059, -80.26795], [40.76711, -80.23396], [40.74171, -80.19362], [40.71619, -80.13586], [40.69609, -80.1161], [40.65684, -80.08182], [40.65168, -80.04207], [40.63963, -79.99577], [40.61281, -79.96853], [40.58776, -79.88152], [40.55834, -79.84905], [40.55042, -79.82724], [40.52997, -79.82164], [40.51212, -79.79188], [40.48671, -79.77846], [40.42329, -79.73695], [40.37801, -79.67545], [40.33201, -79.68933], [40.30361, -79.6728], [40.26426, -79.65862], [40.24045, -79.63028], [40.1946, -79.54603], [40.15092, -79.4627], [40.14601, -79.42436], [40.11945, -79.39836], [40.10691, -79.37152], [40.11802, -79.33669], [40.12413, -79.28094], [40.10902, -79.24443], [40.09894, -79.20229], [40.08298, -79.19062], [40.07478, -79.16326], [40.04123, -79.11545], [39.99916, -79.04337], [39.96267, -78.8606], [39.96417, -78.83431], [39.95521, -78.82135], [39.9736, -78.80232], [39.98241, -78.77145], [39.98189, -78.72645], [40.01014, -78.67176], [40.01705, -78.61147], [40.01511, -78.59225], [40.04109, -78.56354], [40.04858, -78.50963], [40.02399, -78.48137], [40.00313, -78.42373], [40.01063, -78.39447], [40.00118, -78.36306], [39.9861, -78.30099], [39.98711, -78.25676], [39.99394, -78.22558], [40.02416, -78.18158], [40.03317, -78.14017], [40.05355, -78.10153], [40.05477, -78.07686], [40.04359, -78.05306], [40.03765, -78.00243], [40.05626, -77.95525], [40.08369, -77.87085], [40.0876, -77.83721], [40.099, -77.81172], [40.13391, -77.73787], [40.15752, -77.70595], [40.14296, -77.64648], [40.16937, -77.57276], [40.20572, -77.28614], [40.21865, -77.19435], [40.22327, -77.11083], [40.19643, -77.02232], [40.19941, -76.95048], [40.20424, -76.84967], [40.19707, -76.81907], [40.21254, -76.79717], [40.21035, -76.74553], [40.20742, -76.63659], [40.21322, -76.53601], [40.22821, -76.46342], [40.22356, -76.41994], [40.22841, -76.36098], [40.23813, -76.26613], [40.24553, -76.18436], [40.19957, -76.01086], [40.17299, -75.98192], [40.17537, -75.93798], [40.14893, -75.85613], [40.1464, -75.82456], [40.12364, -75.78186], [40.07691, -75.69985], [40.06532, -75.6168], [40.07505, -75.53121], [40.07993, -75.45775], [40.0828, -75.39319], [40.06513, -75.33137], [40.06946, -75.29431], [40.02597, -75.23041], [40.00648, -75.19848], [39.98087, -75.20639], [39.95147, -75.16297]],\n",
       "                {&quot;bubblingMouseEvents&quot;: true, &quot;color&quot;: &quot;blue&quot;, &quot;dashArray&quot;: null, &quot;dashOffset&quot;: null, &quot;fill&quot;: false, &quot;fillColor&quot;: &quot;blue&quot;, &quot;fillOpacity&quot;: 0.2, &quot;fillRule&quot;: &quot;evenodd&quot;, &quot;lineCap&quot;: &quot;round&quot;, &quot;lineJoin&quot;: &quot;round&quot;, &quot;noClip&quot;: false, &quot;opacity&quot;: 1.0, &quot;smoothFactor&quot;: 1.0, &quot;stroke&quot;: true, &quot;weight&quot;: 3}\n",
       "            ).addTo(map_b07e444aafc81c49f2f495f5dbca5c3e);\n",
       "        \n",
       "    \n",
       "            var marker_f7eb53d817cb7effdee23781ff71b8a2 = L.marker(\n",
       "                [41.24008, -80.98917],\n",
       "                {}\n",
       "            ).addTo(map_b07e444aafc81c49f2f495f5dbca5c3e);\n",
       "        \n",
       "    \n",
       "            var icon_180755f4dc4a222d2efe59e857dab614 = L.AwesomeMarkers.icon(\n",
       "                {&quot;extraClasses&quot;: &quot;fa-rotate-0&quot;, &quot;icon&quot;: &quot;info-sign&quot;, &quot;iconColor&quot;: &quot;white&quot;, &quot;markerColor&quot;: &quot;green&quot;, &quot;prefix&quot;: &quot;glyphicon&quot;}\n",
       "            );\n",
       "            marker_f7eb53d817cb7effdee23781ff71b8a2.setIcon(icon_180755f4dc4a222d2efe59e857dab614);\n",
       "        \n",
       "    \n",
       "        var popup_2f98f7c8af4a67770fcbe84ced9e0f7f = L.popup({&quot;maxWidth&quot;: &quot;100%&quot;});\n",
       "\n",
       "        \n",
       "            \n",
       "                var html_ef994486041b69a41c8c329a77173b67 = $(`&lt;div id=&quot;html_ef994486041b69a41c8c329a77173b67&quot; style=&quot;width: 100.0%; height: 100.0%;&quot;&gt;Middle Point&lt;/div&gt;`)[0];\n",
       "                popup_2f98f7c8af4a67770fcbe84ced9e0f7f.setContent(html_ef994486041b69a41c8c329a77173b67);\n",
       "            \n",
       "        \n",
       "\n",
       "        marker_f7eb53d817cb7effdee23781ff71b8a2.bindPopup(popup_2f98f7c8af4a67770fcbe84ced9e0f7f)\n",
       "        ;\n",
       "\n",
       "        \n",
       "    \n",
       "    \n",
       "            var marker_f7c4768a48751d3ac0b565e92874e1cb = L.marker(\n",
       "                [41.0582681, -82.3266083],\n",
       "                {}\n",
       "            ).addTo(map_b07e444aafc81c49f2f495f5dbca5c3e);\n",
       "        \n",
       "    \n",
       "            var icon_eb38c88ea5a748e0f0ed27d11658b19c = L.AwesomeMarkers.icon(\n",
       "                {&quot;extraClasses&quot;: &quot;fa-rotate-0&quot;, &quot;icon&quot;: &quot;info-sign&quot;, &quot;iconColor&quot;: &quot;white&quot;, &quot;markerColor&quot;: &quot;purple&quot;, &quot;prefix&quot;: &quot;glyphicon&quot;}\n",
       "            );\n",
       "            marker_f7c4768a48751d3ac0b565e92874e1cb.setIcon(icon_eb38c88ea5a748e0f0ed27d11658b19c);\n",
       "        \n",
       "    \n",
       "        var popup_f4e0457a1480720afd19593cb9ae7fb0 = L.popup({&quot;maxWidth&quot;: &quot;100%&quot;});\n",
       "\n",
       "        \n",
       "            \n",
       "                var html_fee5e14c1807a7ed624ffd8149f99900 = $(`&lt;div id=&quot;html_fee5e14c1807a7ed624ffd8149f99900&quot; style=&quot;width: 100.0%; height: 100.0%;&quot;&gt;Hotel: Cleveland/Sandusky Jellystone Park Address: 40 Township Road 1031, Nova&lt;/div&gt;`)[0];\n",
       "                popup_f4e0457a1480720afd19593cb9ae7fb0.setContent(html_fee5e14c1807a7ed624ffd8149f99900);\n",
       "            \n",
       "        \n",
       "\n",
       "        marker_f7c4768a48751d3ac0b565e92874e1cb.bindPopup(popup_f4e0457a1480720afd19593cb9ae7fb0)\n",
       "        ;\n",
       "\n",
       "        \n",
       "    \n",
       "    \n",
       "            var marker_aee2757db4e7048f4ba79f126917019f = L.marker(\n",
       "                [41.05463150000001, -82.3033851],\n",
       "                {}\n",
       "            ).addTo(map_b07e444aafc81c49f2f495f5dbca5c3e);\n",
       "        \n",
       "    \n",
       "            var icon_e5ec49e8b55249ad4bf5b11b515b9e10 = L.AwesomeMarkers.icon(\n",
       "                {&quot;extraClasses&quot;: &quot;fa-rotate-0&quot;, &quot;icon&quot;: &quot;info-sign&quot;, &quot;iconColor&quot;: &quot;white&quot;, &quot;markerColor&quot;: &quot;blue&quot;, &quot;prefix&quot;: &quot;glyphicon&quot;}\n",
       "            );\n",
       "            marker_aee2757db4e7048f4ba79f126917019f.setIcon(icon_e5ec49e8b55249ad4bf5b11b515b9e10);\n",
       "        \n",
       "    \n",
       "        var popup_afc345e6bd37232e66346ee14dbcf677 = L.popup({&quot;maxWidth&quot;: &quot;100%&quot;});\n",
       "\n",
       "        \n",
       "            \n",
       "                var html_2ac942becabf431d2bc8adeae8004181 = $(`&lt;div id=&quot;html_2ac942becabf431d2bc8adeae8004181&quot; style=&quot;width: 100.0%; height: 100.0%;&quot;&gt;Restaurant: The Restaurant at Rolling Acres Address: 63 Ohio 511, Nova&lt;/div&gt;`)[0];\n",
       "                popup_afc345e6bd37232e66346ee14dbcf677.setContent(html_2ac942becabf431d2bc8adeae8004181);\n",
       "            \n",
       "        \n",
       "\n",
       "        marker_aee2757db4e7048f4ba79f126917019f.bindPopup(popup_afc345e6bd37232e66346ee14dbcf677)\n",
       "        ;\n",
       "\n",
       "        \n",
       "    \n",
       "&lt;/script&gt;\n",
       "&lt;/html&gt;\" style=\"position:absolute;width:100%;height:100%;left:0;top:0;border:none !important;\" allowfullscreen webkitallowfullscreen mozallowfullscreen></iframe></div></div>"
      ],
      "text/plain": [
       "<folium.folium.Map at 0x7a98f3afec20>"
      ]
     },
     "execution_count": 14,
     "metadata": {},
     "output_type": "execute_result"
    }
   ],
   "source": [
    "map, hotel_name, hotel_address, restaurant_name, restaurant_address = plot_polyline_on_map(polyline_str, api_key)\n",
    "map"
   ]
  },
  {
   "cell_type": "code",
   "execution_count": 15,
   "metadata": {
    "colab": {
     "base_uri": "https://localhost:8080/"
    },
    "id": "E1Nq8nfoNc9e",
    "outputId": "60592dbc-ec48-4f6a-ae72-22f15e44c8d0"
   },
   "outputs": [
    {
     "name": "stdout",
     "output_type": "stream",
     "text": [
      " Party A is starting at 1 East Main Street, Madison WI.\n",
      " Party B is starting at 1 Penn Square, Philadelphia, Pennsylvania, U.S..\n",
      " The midpoint hotel would be Cleveland/Sandusky Jellystone Park, located at 40 Township Road 1031, Nova\n",
      " The midpoint restaurant would be The Restaurant at Rolling Acres, located at 63 Ohio 511, Nova\n"
     ]
    }
   ],
   "source": [
    "print(f\" Party A is starting at {person_A_address}.\")\n",
    "print(f\" Party B is starting at {person_B_address}.\")\n",
    "print(f\" The midpoint hotel would be {hotel_name}, located at {hotel_address}\")\n",
    "print(f\" The midpoint restaurant would be {restaurant_name}, located at {restaurant_address}\")"
   ]
  }
 ],
 "metadata": {
  "colab": {
   "provenance": []
  },
  "kernelspec": {
   "display_name": "Python 3 (ipykernel)",
   "language": "python",
   "name": "python3"
  },
  "language_info": {
   "codemirror_mode": {
    "name": "ipython",
    "version": 3
   },
   "file_extension": ".py",
   "mimetype": "text/x-python",
   "name": "python",
   "nbconvert_exporter": "python",
   "pygments_lexer": "ipython3",
   "version": "3.7.7"
  }
 },
 "nbformat": 4,
 "nbformat_minor": 1
}
