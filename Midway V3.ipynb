{
 "cells": [
  {
   "cell_type": "code",
   "execution_count": 1,
   "metadata": {
    "id": "yEMI_awdLh2M"
   },
   "outputs": [],
   "source": [
    "import folium\n",
    "import requests\n",
    "import googlemaps\n",
    "from DoNotPublish import api_key\n",
    "import MappingFunctions as mfs"
   ]
  },
  {
   "cell_type": "code",
   "execution_count": 2,
   "metadata": {},
   "outputs": [
    {
     "name": "stdout",
     "output_type": "stream",
     "text": [
      "Input the first starting point's address here:190 Euclid Ave Sharon PA 16146\n",
      "Input the second starting point's address here:920 Emerson Street Philadelphia PA 19111\n"
     ]
    }
   ],
   "source": [
    "person_a_address = input(\"Input the first starting point's address here:\")\n",
    "person_b_address = input(\"Input the second starting point's address here:\")"
   ]
  },
  {
   "cell_type": "code",
   "execution_count": 5,
   "metadata": {
    "id": "82ST_kRtMarH"
   },
   "outputs": [],
   "source": [
    "leg_lengths_miles, polyline_str = mfs.get_distances_and_polyline(person_a_address, person_b_address, api_key)"
   ]
  },
  {
   "cell_type": "code",
   "execution_count": 10,
   "metadata": {
    "colab": {
     "base_uri": "https://localhost:8080/"
    },
    "id": "5vUWIxW-SLb_",
    "outputId": "021ce87d-0ac7-4aa3-ee2e-6ef6161a1c65"
   },
   "outputs": [
    {
     "name": "stdout",
     "output_type": "stream",
     "text": [
      "The total distance between both points is: 369.5198863636364\n"
     ]
    }
   ],
   "source": [
    "# Call the function to get the results\n",
    "total_distance, half_distance, leg_location =mfs.process_distance_list(leg_lengths_miles)\n",
    "print(f\"The total distance between both points is: {total_distance}\")"
   ]
  },
  {
   "cell_type": "code",
   "execution_count": 8,
   "metadata": {
    "colab": {
     "base_uri": "https://localhost:8080/",
     "height": 975
    },
    "id": "T8a9qqa8MY9t",
    "outputId": "c7968583-58e8-4c8b-d1f8-d4c3820b3436"
   },
   "outputs": [
    {
     "data": {
      "text/html": [
       "<div style=\"width:100%;\"><div style=\"position:relative;width:100%;height:0;padding-bottom:60%;\"><span style=\"color:#565656\">Make this Notebook Trusted to load map: File -> Trust Notebook</span><iframe srcdoc=\"&lt;!DOCTYPE html&gt;\n",
       "&lt;html&gt;\n",
       "&lt;head&gt;\n",
       "    \n",
       "    &lt;meta http-equiv=&quot;content-type&quot; content=&quot;text/html; charset=UTF-8&quot; /&gt;\n",
       "    \n",
       "        &lt;script&gt;\n",
       "            L_NO_TOUCH = false;\n",
       "            L_DISABLE_3D = false;\n",
       "        &lt;/script&gt;\n",
       "    \n",
       "    &lt;style&gt;html, body {width: 100%;height: 100%;margin: 0;padding: 0;}&lt;/style&gt;\n",
       "    &lt;style&gt;#map {position:absolute;top:0;bottom:0;right:0;left:0;}&lt;/style&gt;\n",
       "    &lt;script src=&quot;https://cdn.jsdelivr.net/npm/leaflet@1.9.3/dist/leaflet.js&quot;&gt;&lt;/script&gt;\n",
       "    &lt;script src=&quot;https://code.jquery.com/jquery-1.12.4.min.js&quot;&gt;&lt;/script&gt;\n",
       "    &lt;script src=&quot;https://cdn.jsdelivr.net/npm/bootstrap@5.2.2/dist/js/bootstrap.bundle.min.js&quot;&gt;&lt;/script&gt;\n",
       "    &lt;script src=&quot;https://cdnjs.cloudflare.com/ajax/libs/Leaflet.awesome-markers/2.0.2/leaflet.awesome-markers.js&quot;&gt;&lt;/script&gt;\n",
       "    &lt;link rel=&quot;stylesheet&quot; href=&quot;https://cdn.jsdelivr.net/npm/leaflet@1.9.3/dist/leaflet.css&quot;/&gt;\n",
       "    &lt;link rel=&quot;stylesheet&quot; href=&quot;https://cdn.jsdelivr.net/npm/bootstrap@5.2.2/dist/css/bootstrap.min.css&quot;/&gt;\n",
       "    &lt;link rel=&quot;stylesheet&quot; href=&quot;https://netdna.bootstrapcdn.com/bootstrap/3.0.0/css/bootstrap.min.css&quot;/&gt;\n",
       "    &lt;link rel=&quot;stylesheet&quot; href=&quot;https://cdn.jsdelivr.net/npm/@fortawesome/fontawesome-free@6.2.0/css/all.min.css&quot;/&gt;\n",
       "    &lt;link rel=&quot;stylesheet&quot; href=&quot;https://cdnjs.cloudflare.com/ajax/libs/Leaflet.awesome-markers/2.0.2/leaflet.awesome-markers.css&quot;/&gt;\n",
       "    &lt;link rel=&quot;stylesheet&quot; href=&quot;https://cdn.jsdelivr.net/gh/python-visualization/folium/folium/templates/leaflet.awesome.rotate.min.css&quot;/&gt;\n",
       "    \n",
       "            &lt;meta name=&quot;viewport&quot; content=&quot;width=device-width,\n",
       "                initial-scale=1.0, maximum-scale=1.0, user-scalable=no&quot; /&gt;\n",
       "            &lt;style&gt;\n",
       "                #map_c0760ff58282b64017d5c731cf667735 {\n",
       "                    position: relative;\n",
       "                    width: 100.0%;\n",
       "                    height: 100.0%;\n",
       "                    left: 0.0%;\n",
       "                    top: 0.0%;\n",
       "                }\n",
       "                .leaflet-container { font-size: 1rem; }\n",
       "            &lt;/style&gt;\n",
       "        \n",
       "&lt;/head&gt;\n",
       "&lt;body&gt;\n",
       "    \n",
       "    \n",
       "            &lt;div class=&quot;folium-map&quot; id=&quot;map_c0760ff58282b64017d5c731cf667735&quot; &gt;&lt;/div&gt;\n",
       "        \n",
       "&lt;/body&gt;\n",
       "&lt;script&gt;\n",
       "    \n",
       "    \n",
       "            var map_c0760ff58282b64017d5c731cf667735 = L.map(\n",
       "                &quot;map_c0760ff58282b64017d5c731cf667735&quot;,\n",
       "                {\n",
       "                    center: [40.95626543859648, -77.49791328947371],\n",
       "                    crs: L.CRS.EPSG3857,\n",
       "                    zoom: 8,\n",
       "                    zoomControl: true,\n",
       "                    preferCanvas: false,\n",
       "                }\n",
       "            );\n",
       "\n",
       "            \n",
       "\n",
       "        \n",
       "    \n",
       "            var tile_layer_217b6c65632d54add2bc7169b7c8db4d = L.tileLayer(\n",
       "                &quot;https://{s}.tile.openstreetmap.org/{z}/{x}/{y}.png&quot;,\n",
       "                {&quot;attribution&quot;: &quot;Data by \\u0026copy; \\u003ca target=\\&quot;_blank\\&quot; href=\\&quot;http://openstreetmap.org\\&quot;\\u003eOpenStreetMap\\u003c/a\\u003e, under \\u003ca target=\\&quot;_blank\\&quot; href=\\&quot;http://www.openstreetmap.org/copyright\\&quot;\\u003eODbL\\u003c/a\\u003e.&quot;, &quot;detectRetina&quot;: false, &quot;maxNativeZoom&quot;: 18, &quot;maxZoom&quot;: 18, &quot;minZoom&quot;: 0, &quot;noWrap&quot;: false, &quot;opacity&quot;: 1, &quot;subdomains&quot;: &quot;abc&quot;, &quot;tms&quot;: false}\n",
       "            ).addTo(map_c0760ff58282b64017d5c731cf667735);\n",
       "        \n",
       "    \n",
       "            var poly_line_5cb561c447c1d42e1e4939adfda44248 = L.polyline(\n",
       "                [[41.23574, -80.49349], [41.22999, -80.49339], [41.2184, -80.49094], [41.21418, -80.48313], [41.20655, -80.47093], [41.19944, -80.47035], [41.19289, -80.46465], [41.18687, -80.45172], [41.18307, -80.44498], [41.18477, -80.43471], [41.18285, -80.39094], [41.18627, -80.34388], [41.18061, -80.31649], [41.18464, -80.28467], [41.18552, -80.26289], [41.19397, -80.23327], [41.19788, -80.16093], [41.19529, -80.11953], [41.20148, -80.0892], [41.20077, -80.06929], [41.20224, -80.02819], [41.20205, -79.91353], [41.19563, -79.88258], [41.19014, -79.87134], [41.19032, -79.85117], [41.19541, -79.83313], [41.19151, -79.80133], [41.17367, -79.74463], [41.17097, -79.71529], [41.1701, -79.70179], [41.17844, -79.69368], [41.18599, -79.66136], [41.1956, -79.63939], [41.19648, -79.62241], [41.18717, -79.60519], [41.1943, -79.58476], [41.19294, -79.56869], [41.18423, -79.55161], [41.18203, -79.52701], [41.19286, -79.51167], [41.20002, -79.48928], [41.19611, -79.44539], [41.18473, -79.3863], [41.17759, -79.36783], [41.17916, -79.33928], [41.17651, -79.2962], [41.1725, -79.27619], [41.17641, -79.25193], [41.18694, -79.23765], [41.18979, -79.21217], [41.18755, -79.17698], [41.17913, -79.13219], [41.17022, -79.09629], [41.16923, -79.0685], [41.16879, -79.01153], [41.15626, -79.00053], [41.14748, -78.99606], [41.14226, -78.98284], [41.13683, -78.9641], [41.14982, -78.93547], [41.15166, -78.88824], [41.14968, -78.84874], [41.1574, -78.82183], [41.1455, -78.78533], [41.14468, -78.75472], [41.13427, -78.72506], [41.12174, -78.6735], [41.12054, -78.62557], [41.12385, -78.58663], [41.11941, -78.55091], [41.07924, -78.49858], [41.07061, -78.48729], [41.0675, -78.47035], [41.0547, -78.43396], [41.03903, -78.41095], [41.03799, -78.38884], [41.02952, -78.37494], [41.0229, -78.3621], [41.02009, -78.34208], [41.01371, -78.31481], [41.01331, -78.29132], [40.99442, -78.26344], [40.9958, -78.23092], [40.98855, -78.19952], [40.98726, -78.15914], [40.98147, -78.1416], [40.97662, -78.12463], [40.9624, -78.10855], [40.96982, -78.06774], [40.98075, -78.0372], [40.99, -78.02278], [40.99862, -77.99281], [41.01495, -77.95613], [41.02378, -77.93453], [41.02437, -77.91242], [41.00256, -77.86318], [40.99433, -77.8468], [40.99045, -77.8276], [40.97734, -77.79596], [40.96423, -77.78687], [40.95545, -77.76838], [40.95066, -77.74133], [40.94514, -77.71599], [40.97469, -77.63233], [40.99769, -77.60923], [41.01165, -77.58956], [41.0266, -77.55377], [41.02967, -77.52971], [41.03828, -77.495], [41.0412, -77.4627], [41.05911, -77.43155], [41.06676, -77.41658], [41.06884, -77.40631], [41.06033, -77.39148], [41.06064, -77.3651], [41.05161, -77.35013], [41.04688, -77.32468], [41.05567, -77.27285], [41.06285, -77.21596], [41.05579, -77.21015], [41.05341, -77.20038], [41.05072, -77.17408], [41.04891, -77.14744], [41.04203, -77.14227], [41.04086, -77.1332], [41.04707, -77.11091], [41.05345, -77.08959], [41.06373, -77.07492], [41.06985, -77.04926], [41.0748, -77.00105], [41.0766, -76.93958], [41.07201, -76.91703], [41.06369, -76.89849], [41.05399, -76.8833], [41.052, -76.86606], [41.04709, -76.83027], [41.04331, -76.81641], [41.03294, -76.80694], [41.0127, -76.78422], [40.99619, -76.74644], [40.98601, -76.71493], [40.98974, -76.67009], [40.99908, -76.631], [41.00326, -76.56712], [41.00921, -76.50905], [41.02421, -76.45505], [41.0245, -76.41015], [41.03772, -76.36407], [41.03659, -76.34507], [41.02682, -76.32344], [41.01049, -76.29017], [41.01138, -76.27234], [41.00927, -76.23848], [41.01865, -76.18271], [41.01706, -76.1698], [41.00948, -76.16631], [41.00367, -76.16083], [41.00555, -76.14102], [41.01665, -76.11403], [41.0249, -76.09801], [41.02681, -76.07686], [41.04033, -76.03713], [41.05087, -75.99515], [41.05734, -75.94577], [41.05901, -75.92703], [41.06051, -75.87617], [41.06142, -75.86629], [41.055, -75.85562], [41.05464, -75.83292], [41.05535, -75.7773], [41.05957, -75.75637], [41.05614, -75.72751], [41.06392, -75.70772], [41.06605, -75.70197], [41.07287, -75.70622], [41.0605, -75.68561], [41.03492, -75.65845], [41.00411, -75.63502], [40.96813, -75.62967], [40.93078, -75.64377], [40.91771, -75.64836], [40.9035, -75.63982], [40.89533, -75.6397], [40.88978, -75.64654], [40.87862, -75.65734], [40.86492, -75.65178], [40.85348, -75.6537], [40.83285, -75.67647], [40.81907, -75.67819], [40.80308, -75.67384], [40.79102, -75.66734], [40.77654, -75.65154], [40.75319, -75.63537], [40.74146, -75.63081], [40.7327, -75.62855], [40.72162, -75.62813], [40.70957, -75.61636], [40.69563, -75.60467], [40.68918, -75.60264], [40.67029, -75.59689], [40.62856, -75.57686], [40.6079, -75.5755], [40.59231, -75.56652], [40.54163, -75.52978], [40.49876, -75.49553], [40.48668, -75.46549], [40.4302, -75.42028], [40.39393, -75.41098], [40.36558, -75.39902], [40.23733, -75.33977], [40.1566, -75.29587], [40.11545, -75.27804], [40.11218, -75.2803], [40.12152, -75.24369], [40.1323, -75.19405], [40.13386, -75.20293], [40.1203, -75.2044], [40.10652, -75.19797], [40.092, -75.16935], [40.08633, -75.16402], [40.08426, -75.15573], [40.0921, -75.13649], [40.08196, -75.11813], [40.0795, -75.10938], [40.08152, -75.1027], [40.08424, -75.09321], [40.07721, -75.08526], [40.07524, -75.07168]],\n",
       "                {&quot;bubblingMouseEvents&quot;: true, &quot;color&quot;: &quot;blue&quot;, &quot;dashArray&quot;: null, &quot;dashOffset&quot;: null, &quot;fill&quot;: false, &quot;fillColor&quot;: &quot;blue&quot;, &quot;fillOpacity&quot;: 0.2, &quot;fillRule&quot;: &quot;evenodd&quot;, &quot;lineCap&quot;: &quot;round&quot;, &quot;lineJoin&quot;: &quot;round&quot;, &quot;noClip&quot;: false, &quot;opacity&quot;: 1.0, &quot;smoothFactor&quot;: 1.0, &quot;stroke&quot;: true, &quot;weight&quot;: 3}\n",
       "            ).addTo(map_c0760ff58282b64017d5c731cf667735);\n",
       "        \n",
       "    \n",
       "            var marker_8e11b014cb2b443d10c08aafac17d752 = L.marker(\n",
       "                [41.06064, -77.3651],\n",
       "                {}\n",
       "            ).addTo(map_c0760ff58282b64017d5c731cf667735);\n",
       "        \n",
       "    \n",
       "            var icon_df405f26a69f1d3a99d6e199a789458e = L.AwesomeMarkers.icon(\n",
       "                {&quot;extraClasses&quot;: &quot;fa-rotate-0&quot;, &quot;icon&quot;: &quot;info-sign&quot;, &quot;iconColor&quot;: &quot;white&quot;, &quot;markerColor&quot;: &quot;green&quot;, &quot;prefix&quot;: &quot;glyphicon&quot;}\n",
       "            );\n",
       "            marker_8e11b014cb2b443d10c08aafac17d752.setIcon(icon_df405f26a69f1d3a99d6e199a789458e);\n",
       "        \n",
       "    \n",
       "        var popup_93fac69980e061bd2e076cef208ee4df = L.popup({&quot;maxWidth&quot;: &quot;100%&quot;});\n",
       "\n",
       "        \n",
       "            \n",
       "                var html_4648a0659024e8f2aa175a84b1497263 = $(`&lt;div id=&quot;html_4648a0659024e8f2aa175a84b1497263&quot; style=&quot;width: 100.0%; height: 100.0%;&quot;&gt;Middle Point&lt;/div&gt;`)[0];\n",
       "                popup_93fac69980e061bd2e076cef208ee4df.setContent(html_4648a0659024e8f2aa175a84b1497263);\n",
       "            \n",
       "        \n",
       "\n",
       "        marker_8e11b014cb2b443d10c08aafac17d752.bindPopup(popup_93fac69980e061bd2e076cef208ee4df)\n",
       "        ;\n",
       "\n",
       "        \n",
       "    \n",
       "    \n",
       "            var marker_72c903b5cb805c8649c5567bbe656de2 = L.marker(\n",
       "                [40.93884730000001, -77.4583474],\n",
       "                {}\n",
       "            ).addTo(map_c0760ff58282b64017d5c731cf667735);\n",
       "        \n",
       "    \n",
       "            var icon_930b9f2bfd8f20665bc091a5a6c4ab6d = L.AwesomeMarkers.icon(\n",
       "                {&quot;extraClasses&quot;: &quot;fa-rotate-0&quot;, &quot;icon&quot;: &quot;info-sign&quot;, &quot;iconColor&quot;: &quot;white&quot;, &quot;markerColor&quot;: &quot;purple&quot;, &quot;prefix&quot;: &quot;glyphicon&quot;}\n",
       "            );\n",
       "            marker_72c903b5cb805c8649c5567bbe656de2.setIcon(icon_930b9f2bfd8f20665bc091a5a6c4ab6d);\n",
       "        \n",
       "    \n",
       "        var popup_d752895fe13d3f4c3713897a1a607dcc = L.popup({&quot;maxWidth&quot;: &quot;100%&quot;});\n",
       "\n",
       "        \n",
       "            \n",
       "                var html_0067e7000a8b49cb0032bf3f83036468 = $(`&lt;div id=&quot;html_0067e7000a8b49cb0032bf3f83036468&quot; style=&quot;width: 100.0%; height: 100.0%;&quot;&gt;Hotel: Brush Valley Bed And Breakfast Address: 15-011-,033-,0000, Rebersburg&lt;/div&gt;`)[0];\n",
       "                popup_d752895fe13d3f4c3713897a1a607dcc.setContent(html_0067e7000a8b49cb0032bf3f83036468);\n",
       "            \n",
       "        \n",
       "\n",
       "        marker_72c903b5cb805c8649c5567bbe656de2.bindPopup(popup_d752895fe13d3f4c3713897a1a607dcc)\n",
       "        ;\n",
       "\n",
       "        \n",
       "    \n",
       "    \n",
       "            var marker_dc36b5d6d86377d8acade9e01a358a98 = L.marker(\n",
       "                [41.0063215, -77.5450386],\n",
       "                {}\n",
       "            ).addTo(map_c0760ff58282b64017d5c731cf667735);\n",
       "        \n",
       "    \n",
       "            var icon_e4e52cc9f18c3899f77e114ef219ee0a = L.AwesomeMarkers.icon(\n",
       "                {&quot;extraClasses&quot;: &quot;fa-rotate-0&quot;, &quot;icon&quot;: &quot;info-sign&quot;, &quot;iconColor&quot;: &quot;white&quot;, &quot;markerColor&quot;: &quot;blue&quot;, &quot;prefix&quot;: &quot;glyphicon&quot;}\n",
       "            );\n",
       "            marker_dc36b5d6d86377d8acade9e01a358a98.setIcon(icon_e4e52cc9f18c3899f77e114ef219ee0a);\n",
       "        \n",
       "    \n",
       "        var popup_7b4500692eb8e3bb7482fb7aaca47a2b = L.popup({&quot;maxWidth&quot;: &quot;100%&quot;});\n",
       "\n",
       "        \n",
       "            \n",
       "                var html_17f09829f6ee312fc3d835ca295f4bca = $(`&lt;div id=&quot;html_17f09829f6ee312fc3d835ca295f4bca&quot; style=&quot;width: 100.0%; height: 100.0%;&quot;&gt;Restaurant: Brothers Pizza of Lamar Address: 4616 Nittany Valley Drive, Howard&lt;/div&gt;`)[0];\n",
       "                popup_7b4500692eb8e3bb7482fb7aaca47a2b.setContent(html_17f09829f6ee312fc3d835ca295f4bca);\n",
       "            \n",
       "        \n",
       "\n",
       "        marker_dc36b5d6d86377d8acade9e01a358a98.bindPopup(popup_7b4500692eb8e3bb7482fb7aaca47a2b)\n",
       "        ;\n",
       "\n",
       "        \n",
       "    \n",
       "&lt;/script&gt;\n",
       "&lt;/html&gt;\" style=\"position:absolute;width:100%;height:100%;left:0;top:0;border:none !important;\" allowfullscreen webkitallowfullscreen mozallowfullscreen></iframe></div></div>"
      ],
      "text/plain": [
       "<folium.folium.Map at 0x26583f7b2c8>"
      ]
     },
     "execution_count": 8,
     "metadata": {},
     "output_type": "execute_result"
    }
   ],
   "source": [
    "map, hotel_name, hotel_address, restaurant_name, restaurant_address = mfs.plot_polyline_on_map(polyline_str, api_key)\n",
    "map"
   ]
  },
  {
   "cell_type": "code",
   "execution_count": 11,
   "metadata": {
    "colab": {
     "base_uri": "https://localhost:8080/"
    },
    "id": "E1Nq8nfoNc9e",
    "outputId": "60592dbc-ec48-4f6a-ae72-22f15e44c8d0"
   },
   "outputs": [
    {
     "name": "stdout",
     "output_type": "stream",
     "text": [
      " Party A is starting at 190 Euclid Ave Sharon PA 16146.\n",
      " Party B is starting at 920 Emerson Street Philadelphia PA 19111.\n",
      " The midpoint hotel would be Brush Valley Bed And Breakfast, located at 15-011-,033-,0000, Rebersburg\n",
      " The midpoint restaurant would be Brothers Pizza of Lamar, located at 4616 Nittany Valley Drive, Howard\n"
     ]
    }
   ],
   "source": [
    "print(f\" Party A is starting at {person_a_address}.\")\n",
    "print(f\" Party B is starting at {person_b_address}.\")\n",
    "\n",
    "print(f\" The midpoint hotel would be {hotel_name}, located at {hotel_address}\")\n",
    "print(f\" The midpoint restaurant would be {restaurant_name}, located at {restaurant_address}\")"
   ]
  },
  {
   "cell_type": "code",
   "execution_count": null,
   "metadata": {},
   "outputs": [],
   "source": []
  },
  {
   "cell_type": "code",
   "execution_count": null,
   "metadata": {},
   "outputs": [],
   "source": []
  }
 ],
 "metadata": {
  "colab": {
   "provenance": []
  },
  "kernelspec": {
   "display_name": "PythonData",
   "language": "python",
   "name": "pythondata"
  },
  "language_info": {
   "codemirror_mode": {
    "name": "ipython",
    "version": 3
   },
   "file_extension": ".py",
   "mimetype": "text/x-python",
   "name": "python",
   "nbconvert_exporter": "python",
   "pygments_lexer": "ipython3",
   "version": "3.7.7"
  }
 },
 "nbformat": 4,
 "nbformat_minor": 1
}
